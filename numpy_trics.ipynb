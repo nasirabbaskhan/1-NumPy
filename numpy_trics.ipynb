{
 "cells": [
  {
   "cell_type": "markdown",
   "metadata": {},
   "source": [
    "##### np.sort()\n",
    "Return a sorted copy of  an array"
   ]
  },
  {
   "cell_type": "code",
   "execution_count": 12,
   "metadata": {},
   "outputs": [
    {
     "name": "stdout",
     "output_type": "stream",
     "text": [
      "[40 91 19 40 81 97 93 87  3 81 90 15 35 71 98]\n",
      "-------------------------\n",
      "[ 3 15 19 35 40 40 71 81 81 87 90 91 93 97 98]\n",
      "-------------------------\n",
      "[98 97 93 91 90 87 81 81 71 40 40 35 19 15  3]\n"
     ]
    }
   ],
   "source": [
    "import numpy as np\n",
    "\n",
    "a = np.random.randint(1,100,15)\n",
    "print(a)\n",
    "print(\"-------------------------\")\n",
    "sorted_a = np.sort(a) # return assenting order\n",
    "print(sorted_a)\n",
    "print(\"-------------------------\")\n",
    "sorted = np.sort(a)[::-1] # return desending order order\n",
    "print(sorted)"
   ]
  },
  {
   "cell_type": "code",
   "execution_count": 10,
   "metadata": {},
   "outputs": [
    {
     "name": "stdout",
     "output_type": "stream",
     "text": [
      "[[54 33 93 53]\n",
      " [68 42 86  7]\n",
      " [ 3 70 63 37]\n",
      " [91 48 47 35]\n",
      " [19 53 32 38]\n",
      " [89 52 10 86]]\n",
      "-----------\n",
      "[[33 53 54 93]\n",
      " [ 7 42 68 86]\n",
      " [ 3 37 63 70]\n",
      " [35 47 48 91]\n",
      " [19 32 38 53]\n",
      " [10 52 86 89]]\n",
      "-----------\n",
      "[[ 3 33 10  7]\n",
      " [19 42 32 35]\n",
      " [54 48 47 37]\n",
      " [68 52 63 38]\n",
      " [89 53 86 53]\n",
      " [91 70 93 86]]\n"
     ]
    }
   ],
   "source": [
    "b = np.random.randint(1,100,24).reshape(6,4)\n",
    "print(b)\n",
    "print(\"-----------\")\n",
    "sorted_b_row = np.sort(b) # return assenting order in each row\n",
    "print(sorted_b_row)\n",
    "print(\"-----------\")\n",
    "sorted_b_colm = np.sort(b, axis=0) # return assenting order in each column\n",
    "print(sorted_b_colm)"
   ]
  },
  {
   "cell_type": "markdown",
   "metadata": {},
   "source": [
    "##### np.append\n",
    "np.appen() appends values alonge the mentioned axis at the end of the array"
   ]
  },
  {
   "cell_type": "code",
   "execution_count": 13,
   "metadata": {},
   "outputs": [
    {
     "data": {
      "text/plain": [
       "array([40, 91, 19, 40, 81, 97, 93, 87,  3, 81, 90, 15, 35, 71, 98])"
      ]
     },
     "execution_count": 13,
     "metadata": {},
     "output_type": "execute_result"
    }
   ],
   "source": [
    "a"
   ]
  },
  {
   "cell_type": "code",
   "execution_count": 19,
   "metadata": {},
   "outputs": [
    {
     "data": {
      "text/plain": [
       "array([ 40,  91,  19,  40,  81,  97,  93,  87,   3,  81,  90,  15,  35,\n",
       "        71,  98, 200])"
      ]
     },
     "execution_count": 19,
     "metadata": {},
     "output_type": "execute_result"
    }
   ],
   "source": [
    "np.append(a,200)"
   ]
  },
  {
   "cell_type": "code",
   "execution_count": 20,
   "metadata": {},
   "outputs": [
    {
     "data": {
      "text/plain": [
       "array([[54, 33, 93, 53],\n",
       "       [68, 42, 86,  7],\n",
       "       [ 3, 70, 63, 37],\n",
       "       [91, 48, 47, 35],\n",
       "       [19, 53, 32, 38],\n",
       "       [89, 52, 10, 86]])"
      ]
     },
     "execution_count": 20,
     "metadata": {},
     "output_type": "execute_result"
    }
   ],
   "source": [
    "# append column in 2D array in b\n",
    "b"
   ]
  },
  {
   "cell_type": "code",
   "execution_count": 134,
   "metadata": {},
   "outputs": [
    {
     "data": {
      "text/plain": [
       "array([[54., 33., 93., 53.,  1.],\n",
       "       [68., 42., 86.,  7.,  1.],\n",
       "       [ 3., 70., 63., 37.,  1.],\n",
       "       [91., 48., 47., 35.,  1.],\n",
       "       [19., 53., 32., 38.,  1.],\n",
       "       [89., 52., 10., 86.,  1.]])"
      ]
     },
     "execution_count": 134,
     "metadata": {},
     "output_type": "execute_result"
    }
   ],
   "source": [
    "np.append(b, np.ones((b.shape[0],1)), axis=1)"
   ]
  },
  {
   "cell_type": "code",
   "execution_count": 30,
   "metadata": {},
   "outputs": [
    {
     "data": {
      "text/plain": [
       "array([[54., 33., 93., 53.],\n",
       "       [68., 42., 86.,  7.],\n",
       "       [ 3., 70., 63., 37.],\n",
       "       [91., 48., 47., 35.],\n",
       "       [19., 53., 32., 38.],\n",
       "       [89., 52., 10., 86.],\n",
       "       [ 1.,  1.,  1.,  1.]])"
      ]
     },
     "execution_count": 30,
     "metadata": {},
     "output_type": "execute_result"
    }
   ],
   "source": [
    "# append row in 2D array in b\n",
    "np.append(b, np.ones((1,b.shape[1])), axis=0)"
   ]
  },
  {
   "cell_type": "markdown",
   "metadata": {},
   "source": [
    "##### np.concatenate\n",
    "np.concatenate() concatenate a sequence of arrays along an existing axis."
   ]
  },
  {
   "cell_type": "code",
   "execution_count": 31,
   "metadata": {},
   "outputs": [
    {
     "name": "stdout",
     "output_type": "stream",
     "text": [
      "[[0 1 2]\n",
      " [3 4 5]]\n",
      "----------\n",
      "[[ 6  7  8]\n",
      " [ 9 10 11]]\n"
     ]
    }
   ],
   "source": [
    "c = np.arange(6).reshape(2,3)\n",
    "d = np.arange(6,12).reshape(2,3)\n",
    "\n",
    "print(c)\n",
    "print(\"----------\")\n",
    "print(d)"
   ]
  },
  {
   "cell_type": "code",
   "execution_count": 33,
   "metadata": {},
   "outputs": [
    {
     "data": {
      "text/plain": [
       "array([[ 0,  1,  2],\n",
       "       [ 3,  4,  5],\n",
       "       [ 6,  7,  8],\n",
       "       [ 9, 10, 11]])"
      ]
     },
     "execution_count": 33,
     "metadata": {},
     "output_type": "execute_result"
    }
   ],
   "source": [
    "# concatinate through column\n",
    "np.concatenate((c,d),axis=0)"
   ]
  },
  {
   "cell_type": "code",
   "execution_count": 34,
   "metadata": {},
   "outputs": [
    {
     "data": {
      "text/plain": [
       "array([[ 0,  1,  2,  6,  7,  8],\n",
       "       [ 3,  4,  5,  9, 10, 11]])"
      ]
     },
     "execution_count": 34,
     "metadata": {},
     "output_type": "execute_result"
    }
   ],
   "source": [
    "# concatinate through row\n",
    "np.concatenate((c,d),axis=1)"
   ]
  },
  {
   "cell_type": "markdown",
   "metadata": {},
   "source": [
    "##### np.unique\n",
    "With the help of np.unique(),we can get the unique values from an array given as parameter "
   ]
  },
  {
   "cell_type": "code",
   "execution_count": 45,
   "metadata": {},
   "outputs": [
    {
     "name": "stdout",
     "output_type": "stream",
     "text": [
      "[1 2 3 4 4 5 2 6 6 3 4 5 1 1 3 5]\n"
     ]
    }
   ],
   "source": [
    "e = np.array([1,2,3,4,4,5,2,6,6,3,4,5,1,1,3,5])\n",
    "print(e)"
   ]
  },
  {
   "cell_type": "code",
   "execution_count": 46,
   "metadata": {},
   "outputs": [
    {
     "data": {
      "text/plain": [
       "array([1, 2, 3, 4, 5, 6])"
      ]
     },
     "execution_count": 46,
     "metadata": {},
     "output_type": "execute_result"
    }
   ],
   "source": [
    "np.unique(e)"
   ]
  },
  {
   "cell_type": "markdown",
   "metadata": {},
   "source": [
    "##### np.expand_dims\n",
    "with the help of this method, we can get the expanded dimensions of an array"
   ]
  },
  {
   "cell_type": "code",
   "execution_count": 47,
   "metadata": {},
   "outputs": [
    {
     "name": "stdout",
     "output_type": "stream",
     "text": [
      "[0 1 2 3 4 5 6 7 8 9]\n",
      "(10,)\n"
     ]
    }
   ],
   "source": [
    "a = np.arange(10) # 1D array\n",
    "print(a)\n",
    "print(a.shape)"
   ]
  },
  {
   "cell_type": "code",
   "execution_count": 50,
   "metadata": {},
   "outputs": [
    {
     "name": "stdout",
     "output_type": "stream",
     "text": [
      "[[0 1 2 3 4 5 6 7 8 9]]\n",
      "(1, 10)\n"
     ]
    }
   ],
   "source": [
    "# expand the 1D array into 2D\n",
    "expanded = np.expand_dims(a, axis=0)\n",
    "print(expanded)\n",
    "print(expanded.shape)\n"
   ]
  },
  {
   "cell_type": "code",
   "execution_count": 52,
   "metadata": {},
   "outputs": [
    {
     "name": "stdout",
     "output_type": "stream",
     "text": [
      "[[[0 1 2 3 4 5 6 7 8 9]]]\n",
      "(1, 1, 10)\n"
     ]
    }
   ],
   "source": [
    "# expand the 2D into 3D\n",
    "more_expanded = np.expand_dims(expanded, axis=0)\n",
    "print(more_expanded)\n",
    "print(more_expanded.shape)"
   ]
  },
  {
   "cell_type": "markdown",
   "metadata": {},
   "source": [
    "##### np.where \n",
    "This function return the indices of elements in an input array where the given condition is satisfied"
   ]
  },
  {
   "cell_type": "code",
   "execution_count": 53,
   "metadata": {},
   "outputs": [
    {
     "data": {
      "text/plain": [
       "array([51,  4, 13, 72, 93, 76, 25, 68, 18, 85, 76, 34, 82, 67, 74])"
      ]
     },
     "execution_count": 53,
     "metadata": {},
     "output_type": "execute_result"
    }
   ],
   "source": [
    "a = np.random.randint(1,100,15)\n",
    "a"
   ]
  },
  {
   "cell_type": "code",
   "execution_count": 54,
   "metadata": {},
   "outputs": [
    {
     "data": {
      "text/plain": [
       "(array([ 0,  3,  4,  5,  7,  9, 10, 12, 13, 14], dtype=int64),)"
      ]
     },
     "execution_count": 54,
     "metadata": {},
     "output_type": "execute_result"
    }
   ],
   "source": [
    "# get the index of of those number whose value is greator than 50\n",
    "np.where(a>50)"
   ]
  },
  {
   "cell_type": "code",
   "execution_count": 57,
   "metadata": {},
   "outputs": [
    {
     "data": {
      "text/plain": [
       "array([ 0,  4, 13,  0,  0,  0, 25,  0, 18,  0,  0, 34,  0,  0,  0])"
      ]
     },
     "execution_count": 57,
     "metadata": {},
     "output_type": "execute_result"
    }
   ],
   "source": [
    "#Replce value > 50 with 0\n",
    "#np.where(condition , true, false)\n",
    "np.where(a>50, 0, a)"
   ]
  },
  {
   "cell_type": "code",
   "execution_count": 58,
   "metadata": {},
   "outputs": [
    {
     "data": {
      "text/plain": [
       "array([51,  0, 13,  0, 93,  0, 25,  0,  0, 85,  0,  0,  0, 67,  0])"
      ]
     },
     "execution_count": 58,
     "metadata": {},
     "output_type": "execute_result"
    }
   ],
   "source": [
    "#Replce even value with 0\n",
    "#np.where(condition , true, false)\n",
    "np.where(a%2==0, 0, a)"
   ]
  },
  {
   "cell_type": "code",
   "execution_count": 135,
   "metadata": {},
   "outputs": [
    {
     "data": {
      "text/plain": [
       "array([2, 4, 6, 8, 9])"
      ]
     },
     "metadata": {},
     "output_type": "display_data"
    },
    {
     "data": {
      "text/plain": [
       "array([2, 3, 7, 9, 3])"
      ]
     },
     "metadata": {},
     "output_type": "display_data"
    },
    {
     "data": {
      "text/plain": [
       "array([2, 4, 7, 9, 9])"
      ]
     },
     "execution_count": 135,
     "metadata": {},
     "output_type": "execute_result"
    }
   ],
   "source": [
    "x = np.array([2,4,6,8,9])\n",
    "y= np.array([2,3,7,9,3])\n",
    "display(x)\n",
    "display(y)\n",
    "\n",
    "np.where(x>y,x,y) # it will return greater number that either from x or from y"
   ]
  },
  {
   "cell_type": "markdown",
   "metadata": {},
   "source": [
    "##### np.argmax\n",
    "This function return indices of the max elment of the array in a particular axis"
   ]
  },
  {
   "cell_type": "code",
   "execution_count": 62,
   "metadata": {},
   "outputs": [
    {
     "data": {
      "text/plain": [
       "array([51,  4, 13, 72, 93, 76, 25, 68, 18, 85, 76, 34, 82, 67, 74])"
      ]
     },
     "execution_count": 62,
     "metadata": {},
     "output_type": "execute_result"
    }
   ],
   "source": [
    "a"
   ]
  },
  {
   "cell_type": "code",
   "execution_count": 63,
   "metadata": {},
   "outputs": [
    {
     "data": {
      "text/plain": [
       "4"
      ]
     },
     "execution_count": 63,
     "metadata": {},
     "output_type": "execute_result"
    }
   ],
   "source": [
    "# find the index of max value\n",
    "\n",
    "np.argmax(a)"
   ]
  },
  {
   "cell_type": "code",
   "execution_count": 64,
   "metadata": {},
   "outputs": [
    {
     "data": {
      "text/plain": [
       "array([[54, 33, 93, 53],\n",
       "       [68, 42, 86,  7],\n",
       "       [ 3, 70, 63, 37],\n",
       "       [91, 48, 47, 35],\n",
       "       [19, 53, 32, 38],\n",
       "       [89, 52, 10, 86]])"
      ]
     },
     "execution_count": 64,
     "metadata": {},
     "output_type": "execute_result"
    }
   ],
   "source": [
    "b # 2D"
   ]
  },
  {
   "cell_type": "code",
   "execution_count": 71,
   "metadata": {},
   "outputs": [
    {
     "data": {
      "text/plain": [
       "array([2, 2, 1, 0, 1, 0], dtype=int64)"
      ]
     },
     "execution_count": 71,
     "metadata": {},
     "output_type": "execute_result"
    }
   ],
   "source": [
    "# find the index of max value in each row of 2D\n",
    "np.argmax(b, axis=1)\n"
   ]
  },
  {
   "cell_type": "code",
   "execution_count": 72,
   "metadata": {},
   "outputs": [
    {
     "data": {
      "text/plain": [
       "array([3, 2, 0, 5], dtype=int64)"
      ]
     },
     "execution_count": 72,
     "metadata": {},
     "output_type": "execute_result"
    }
   ],
   "source": [
    "# find the index of max value in each column of 2D\n",
    "np.argmax(b, axis=0)"
   ]
  },
  {
   "cell_type": "markdown",
   "metadata": {},
   "source": [
    "##### np.argmin"
   ]
  },
  {
   "cell_type": "code",
   "execution_count": 73,
   "metadata": {},
   "outputs": [
    {
     "data": {
      "text/plain": [
       "array([51,  4, 13, 72, 93, 76, 25, 68, 18, 85, 76, 34, 82, 67, 74])"
      ]
     },
     "execution_count": 73,
     "metadata": {},
     "output_type": "execute_result"
    }
   ],
   "source": [
    "a"
   ]
  },
  {
   "cell_type": "code",
   "execution_count": 76,
   "metadata": {},
   "outputs": [
    {
     "data": {
      "text/plain": [
       "1"
      ]
     },
     "execution_count": 76,
     "metadata": {},
     "output_type": "execute_result"
    }
   ],
   "source": [
    "# find the index of min value\n",
    "np.argmin(a)"
   ]
  },
  {
   "cell_type": "markdown",
   "metadata": {},
   "source": [
    "##### np.cumsum\n",
    "this function is used when we want to compute the cumulative sum of array elements over a give array "
   ]
  },
  {
   "cell_type": "code",
   "execution_count": 77,
   "metadata": {},
   "outputs": [
    {
     "data": {
      "text/plain": [
       "array([51,  4, 13, 72, 93, 76, 25, 68, 18, 85, 76, 34, 82, 67, 74])"
      ]
     },
     "execution_count": 77,
     "metadata": {},
     "output_type": "execute_result"
    }
   ],
   "source": [
    "a"
   ]
  },
  {
   "cell_type": "code",
   "execution_count": 78,
   "metadata": {},
   "outputs": [
    {
     "data": {
      "text/plain": [
       "array([ 51,  55,  68, 140, 233, 309, 334, 402, 420, 505, 581, 615, 697,\n",
       "       764, 838])"
      ]
     },
     "execution_count": 78,
     "metadata": {},
     "output_type": "execute_result"
    }
   ],
   "source": [
    "np.cumsum(a)"
   ]
  },
  {
   "cell_type": "code",
   "execution_count": 79,
   "metadata": {},
   "outputs": [
    {
     "data": {
      "text/plain": [
       "array([[54, 33, 93, 53],\n",
       "       [68, 42, 86,  7],\n",
       "       [ 3, 70, 63, 37],\n",
       "       [91, 48, 47, 35],\n",
       "       [19, 53, 32, 38],\n",
       "       [89, 52, 10, 86]])"
      ]
     },
     "execution_count": 79,
     "metadata": {},
     "output_type": "execute_result"
    }
   ],
   "source": [
    "b # 2D"
   ]
  },
  {
   "cell_type": "code",
   "execution_count": 80,
   "metadata": {},
   "outputs": [
    {
     "data": {
      "text/plain": [
       "array([  54,   87,  180,  233,  301,  343,  429,  436,  439,  509,  572,\n",
       "        609,  700,  748,  795,  830,  849,  902,  934,  972, 1061, 1113,\n",
       "       1123, 1209])"
      ]
     },
     "execution_count": 80,
     "metadata": {},
     "output_type": "execute_result"
    }
   ],
   "source": [
    "np.cumsum(b) # convert into 1D and calcuate cumsum"
   ]
  },
  {
   "cell_type": "code",
   "execution_count": 81,
   "metadata": {},
   "outputs": [
    {
     "data": {
      "text/plain": [
       "array([[ 54,  87, 180, 233],\n",
       "       [ 68, 110, 196, 203],\n",
       "       [  3,  73, 136, 173],\n",
       "       [ 91, 139, 186, 221],\n",
       "       [ 19,  72, 104, 142],\n",
       "       [ 89, 141, 151, 237]])"
      ]
     },
     "execution_count": 81,
     "metadata": {},
     "output_type": "execute_result"
    }
   ],
   "source": [
    "np.cumsum(b , axis=1) #  calcuate cumsum in rows"
   ]
  },
  {
   "cell_type": "code",
   "execution_count": 82,
   "metadata": {},
   "outputs": [
    {
     "data": {
      "text/plain": [
       "array([[ 54,  33,  93,  53],\n",
       "       [122,  75, 179,  60],\n",
       "       [125, 145, 242,  97],\n",
       "       [216, 193, 289, 132],\n",
       "       [235, 246, 321, 170],\n",
       "       [324, 298, 331, 256]])"
      ]
     },
     "execution_count": 82,
     "metadata": {},
     "output_type": "execute_result"
    }
   ],
   "source": [
    "np.cumsum(b , axis=0) #  calcuate cumsum in column"
   ]
  },
  {
   "cell_type": "markdown",
   "metadata": {},
   "source": [
    "##### np.cumprod\n",
    "this function is used when we want to compute the cumulative product of array elements over a give array "
   ]
  },
  {
   "cell_type": "code",
   "execution_count": 83,
   "metadata": {},
   "outputs": [
    {
     "data": {
      "text/plain": [
       "array([51,  4, 13, 72, 93, 76, 25, 68, 18, 85, 76, 34, 82, 67, 74])"
      ]
     },
     "execution_count": 83,
     "metadata": {},
     "output_type": "execute_result"
    }
   ],
   "source": [
    "a # 1D"
   ]
  },
  {
   "cell_type": "code",
   "execution_count": 84,
   "metadata": {},
   "outputs": [
    {
     "data": {
      "text/plain": [
       "array([         51,         204,        2652,      190944,    17757792,\n",
       "        1349592192,  -619933568,   794190336,  1410524160,  -364530688,\n",
       "       -1934528512, -1349459968,  1013432320,  -819511296,  -514293760])"
      ]
     },
     "execution_count": 84,
     "metadata": {},
     "output_type": "execute_result"
    }
   ],
   "source": [
    "np.cumprod(a)"
   ]
  },
  {
   "cell_type": "code",
   "execution_count": 85,
   "metadata": {},
   "outputs": [
    {
     "data": {
      "text/plain": [
       "array([[54, 33, 93, 53],\n",
       "       [68, 42, 86,  7],\n",
       "       [ 3, 70, 63, 37],\n",
       "       [91, 48, 47, 35],\n",
       "       [19, 53, 32, 38],\n",
       "       [89, 52, 10, 86]])"
      ]
     },
     "execution_count": 85,
     "metadata": {},
     "output_type": "execute_result"
    }
   ],
   "source": [
    "b #2D"
   ]
  },
  {
   "cell_type": "code",
   "execution_count": 88,
   "metadata": {},
   "outputs": [
    {
     "data": {
      "text/plain": [
       "array([         54,        1782,      165726,     8783478,   597276504,\n",
       "        -684190608,  1289149856,   434114400,  1302343200,   969710784,\n",
       "         962237248,  1243039808,  1447472832,   759219200,  1323564032,\n",
       "        -919899136,  -298214400,  1374505984,  1034518528,   656998400,\n",
       "       -1656684544,  -248250368,  1812463616,  1253048320])"
      ]
     },
     "execution_count": 88,
     "metadata": {},
     "output_type": "execute_result"
    }
   ],
   "source": [
    "np.cumprod(b) # convert into 1D and calcuate cumprod"
   ]
  },
  {
   "cell_type": "code",
   "execution_count": 90,
   "metadata": {},
   "outputs": [
    {
     "data": {
      "text/plain": [
       "array([[     54,    1782,  165726, 8783478],\n",
       "       [     68,    2856,  245616, 1719312],\n",
       "       [      3,     210,   13230,  489510],\n",
       "       [     91,    4368,  205296, 7185360],\n",
       "       [     19,    1007,   32224, 1224512],\n",
       "       [     89,    4628,   46280, 3980080]])"
      ]
     },
     "execution_count": 90,
     "metadata": {},
     "output_type": "execute_result"
    }
   ],
   "source": [
    "np.cumprod(b , axis=1) #  calcuate cumprod in rows"
   ]
  },
  {
   "cell_type": "code",
   "execution_count": 91,
   "metadata": {},
   "outputs": [
    {
     "data": {
      "text/plain": [
       "array([[ 54,  33,  93,  53],\n",
       "       [122,  75, 179,  60],\n",
       "       [125, 145, 242,  97],\n",
       "       [216, 193, 289, 132],\n",
       "       [235, 246, 321, 170],\n",
       "       [324, 298, 331, 256]])"
      ]
     },
     "execution_count": 91,
     "metadata": {},
     "output_type": "execute_result"
    }
   ],
   "source": [
    "np.cumsum(b , axis=0) #  calcuate cumsum in colum"
   ]
  },
  {
   "cell_type": "markdown",
   "metadata": {},
   "source": [
    "#### np.percentile\n",
    "This function is used to compute the nth percentage of the givin data (array element) along the specified axis "
   ]
  },
  {
   "cell_type": "code",
   "execution_count": 92,
   "metadata": {},
   "outputs": [
    {
     "data": {
      "text/plain": [
       "array([51,  4, 13, 72, 93, 76, 25, 68, 18, 85, 76, 34, 82, 67, 74])"
      ]
     },
     "execution_count": 92,
     "metadata": {},
     "output_type": "execute_result"
    }
   ],
   "source": [
    "a"
   ]
  },
  {
   "cell_type": "code",
   "execution_count": 93,
   "metadata": {},
   "outputs": [
    {
     "data": {
      "text/plain": [
       "93.0"
      ]
     },
     "execution_count": 93,
     "metadata": {},
     "output_type": "execute_result"
    }
   ],
   "source": [
    "# calculate the 100 percent of percentile mean maximum\n",
    "\n",
    "np.percentile(a,100)"
   ]
  },
  {
   "cell_type": "code",
   "execution_count": 94,
   "metadata": {},
   "outputs": [
    {
     "data": {
      "text/plain": [
       "68.0"
      ]
     },
     "execution_count": 94,
     "metadata": {},
     "output_type": "execute_result"
    }
   ],
   "source": [
    "# calculate the 50 percent of percentile\n",
    "\n",
    "np.percentile(a,50)"
   ]
  },
  {
   "cell_type": "code",
   "execution_count": 96,
   "metadata": {},
   "outputs": [
    {
     "data": {
      "text/plain": [
       "4.0"
      ]
     },
     "execution_count": 96,
     "metadata": {},
     "output_type": "execute_result"
    }
   ],
   "source": [
    "# calculate the 0 percent of percentile mean minimum\n",
    "\n",
    "np.percentile(a,0)"
   ]
  },
  {
   "cell_type": "markdown",
   "metadata": {},
   "source": [
    "##### np.histogram\n",
    "This function is bult-in in numpy,  which represent the frequency of data distribution in the graphical form"
   ]
  },
  {
   "cell_type": "code",
   "execution_count": 97,
   "metadata": {},
   "outputs": [
    {
     "data": {
      "text/plain": [
       "array([51,  4, 13, 72, 93, 76, 25, 68, 18, 85, 76, 34, 82, 67, 74])"
      ]
     },
     "execution_count": 97,
     "metadata": {},
     "output_type": "execute_result"
    }
   ],
   "source": [
    "a"
   ]
  },
  {
   "cell_type": "code",
   "execution_count": 98,
   "metadata": {},
   "outputs": [
    {
     "data": {
      "text/plain": [
       "(array([1, 2, 1, 1, 0, 1, 2, 4, 2, 1], dtype=int64),\n",
       " array([  0,  10,  20,  30,  40,  50,  60,  70,  80,  90, 100]))"
      ]
     },
     "execution_count": 98,
     "metadata": {},
     "output_type": "execute_result"
    }
   ],
   "source": [
    "np.histogram(a,bins=[0,10,20,30,40,50,60,70,80,90,100])"
   ]
  },
  {
   "cell_type": "markdown",
   "metadata": {},
   "source": [
    "##### np.corrcoef\n",
    "This function return Pearson product-moment correlation coefficients"
   ]
  },
  {
   "cell_type": "code",
   "execution_count": 99,
   "metadata": {},
   "outputs": [
    {
     "data": {
      "text/plain": [
       "array([[1.        , 0.25344572],\n",
       "       [0.25344572, 1.        ]])"
      ]
     },
     "execution_count": 99,
     "metadata": {},
     "output_type": "execute_result"
    }
   ],
   "source": [
    "salary = np.array([20000,40000, 25000,35000,60000])\n",
    "experience = np.array([1,3,2,4,2])\n",
    "\n",
    "np.corrcoef(salary,experience)"
   ]
  },
  {
   "cell_type": "markdown",
   "metadata": {},
   "source": [
    "##### np.isin\n",
    "with help of this fuction, we can see taht one array having values are checked in a different number array having different elements with diffeent sizes. "
   ]
  },
  {
   "cell_type": "code",
   "execution_count": 107,
   "metadata": {},
   "outputs": [
    {
     "data": {
      "text/plain": [
       "array([51,  4, 13, 72, 93, 76, 25, 68, 18, 85, 76, 34, 82, 67, 74])"
      ]
     },
     "execution_count": 107,
     "metadata": {},
     "output_type": "execute_result"
    }
   ],
   "source": [
    "# through np.isin we can search multiple number to mach \n",
    "a"
   ]
  },
  {
   "cell_type": "code",
   "execution_count": 105,
   "metadata": {},
   "outputs": [
    {
     "data": {
      "text/plain": [
       "array([False, False, False,  True, False, False, False, False, False,\n",
       "       False, False, False, False,  True, False])"
      ]
     },
     "execution_count": 105,
     "metadata": {},
     "output_type": "execute_result"
    }
   ],
   "source": [
    "items = [10,20,30,67,50,60,72,80,92,100]\n",
    "\n",
    "# to chek array a has the numbers of items or not\n",
    "\n",
    "np.isin(a,items)"
   ]
  },
  {
   "cell_type": "code",
   "execution_count": 106,
   "metadata": {},
   "outputs": [
    {
     "data": {
      "text/plain": [
       "array([72, 67])"
      ]
     },
     "execution_count": 106,
     "metadata": {},
     "output_type": "execute_result"
    }
   ],
   "source": [
    "# get maching elements \n",
    "a[np.isin(a,items)]"
   ]
  },
  {
   "cell_type": "markdown",
   "metadata": {},
   "source": [
    "##### np.flip\n",
    "This function is used to reverses the order of array elements along the spesified axis, perserving the shape of the array"
   ]
  },
  {
   "cell_type": "code",
   "execution_count": 109,
   "metadata": {},
   "outputs": [
    {
     "data": {
      "text/plain": [
       "array([51,  4, 13, 72, 93, 76, 25, 68, 18, 85, 76, 34, 82, 67, 74])"
      ]
     },
     "execution_count": 109,
     "metadata": {},
     "output_type": "execute_result"
    }
   ],
   "source": [
    "a"
   ]
  },
  {
   "cell_type": "code",
   "execution_count": 110,
   "metadata": {},
   "outputs": [
    {
     "data": {
      "text/plain": [
       "array([74, 67, 82, 34, 76, 85, 18, 68, 25, 76, 93, 72, 13,  4, 51])"
      ]
     },
     "execution_count": 110,
     "metadata": {},
     "output_type": "execute_result"
    }
   ],
   "source": [
    "np.flip(a) # flip"
   ]
  },
  {
   "cell_type": "code",
   "execution_count": 111,
   "metadata": {},
   "outputs": [
    {
     "data": {
      "text/plain": [
       "array([[54, 33, 93, 53],\n",
       "       [68, 42, 86,  7],\n",
       "       [ 3, 70, 63, 37],\n",
       "       [91, 48, 47, 35],\n",
       "       [19, 53, 32, 38],\n",
       "       [89, 52, 10, 86]])"
      ]
     },
     "execution_count": 111,
     "metadata": {},
     "output_type": "execute_result"
    }
   ],
   "source": [
    "b #2D"
   ]
  },
  {
   "cell_type": "code",
   "execution_count": 112,
   "metadata": {},
   "outputs": [
    {
     "data": {
      "text/plain": [
       "array([[86, 10, 52, 89],\n",
       "       [38, 32, 53, 19],\n",
       "       [35, 47, 48, 91],\n",
       "       [37, 63, 70,  3],\n",
       "       [ 7, 86, 42, 68],\n",
       "       [53, 93, 33, 54]])"
      ]
     },
     "execution_count": 112,
     "metadata": {},
     "output_type": "execute_result"
    }
   ],
   "source": [
    "np.flip(b) # bydefault it flip for both rows and column"
   ]
  },
  {
   "cell_type": "code",
   "execution_count": 113,
   "metadata": {},
   "outputs": [
    {
     "data": {
      "text/plain": [
       "array([[53, 93, 33, 54],\n",
       "       [ 7, 86, 42, 68],\n",
       "       [37, 63, 70,  3],\n",
       "       [35, 47, 48, 91],\n",
       "       [38, 32, 53, 19],\n",
       "       [86, 10, 52, 89]])"
      ]
     },
     "execution_count": 113,
     "metadata": {},
     "output_type": "execute_result"
    }
   ],
   "source": [
    "np.flip(b, axis=1) #  flip for rows "
   ]
  },
  {
   "cell_type": "code",
   "execution_count": 114,
   "metadata": {},
   "outputs": [
    {
     "data": {
      "text/plain": [
       "array([[89, 52, 10, 86],\n",
       "       [19, 53, 32, 38],\n",
       "       [91, 48, 47, 35],\n",
       "       [ 3, 70, 63, 37],\n",
       "       [68, 42, 86,  7],\n",
       "       [54, 33, 93, 53]])"
      ]
     },
     "execution_count": 114,
     "metadata": {},
     "output_type": "execute_result"
    }
   ],
   "source": [
    "np.flip(b, axis=0) #  flip for column "
   ]
  },
  {
   "cell_type": "markdown",
   "metadata": {},
   "source": [
    "##### np.put\n",
    "this function replaces spacific elements of an array with given values of p_array. Array indexed workes on flattened array."
   ]
  },
  {
   "cell_type": "code",
   "execution_count": 115,
   "metadata": {},
   "outputs": [
    {
     "data": {
      "text/plain": [
       "array([51,  4, 13, 72, 93, 76, 25, 68, 18, 85, 76, 34, 82, 67, 74])"
      ]
     },
     "execution_count": 115,
     "metadata": {},
     "output_type": "execute_result"
    }
   ],
   "source": [
    "a"
   ]
  },
  {
   "cell_type": "code",
   "execution_count": 118,
   "metadata": {},
   "outputs": [
    {
     "data": {
      "text/plain": [
       "array([110, 500,  13,  72,  93,  76,  25,  68,  18,  85,  76,  34,  82,\n",
       "        67,  74])"
      ]
     },
     "execution_count": 118,
     "metadata": {},
     "output_type": "execute_result"
    }
   ],
   "source": [
    "# replace the 0 index value with 110 and 1 index value with 500 in array a\n",
    "np.put(a,[0,1], [110,500]) # this change permanently\n",
    "a"
   ]
  },
  {
   "cell_type": "markdown",
   "metadata": {},
   "source": [
    "##### np.delete\n",
    "this function return a new array with the deletion of sub_arrays along with the mentioned axis."
   ]
  },
  {
   "cell_type": "code",
   "execution_count": 119,
   "metadata": {},
   "outputs": [
    {
     "data": {
      "text/plain": [
       "array([110, 500,  13,  72,  93,  76,  25,  68,  18,  85,  76,  34,  82,\n",
       "        67,  74])"
      ]
     },
     "execution_count": 119,
     "metadata": {},
     "output_type": "execute_result"
    }
   ],
   "source": [
    "a"
   ]
  },
  {
   "cell_type": "code",
   "execution_count": 122,
   "metadata": {},
   "outputs": [
    {
     "data": {
      "text/plain": [
       "array([500,  13,  72,  93,  76,  25,  68,  18,  85,  76,  34,  82,  67,\n",
       "        74])"
      ]
     },
     "execution_count": 122,
     "metadata": {},
     "output_type": "execute_result"
    }
   ],
   "source": [
    "# delete the 0 index value from array a\n",
    "\n",
    "np.delete(a,0)"
   ]
  },
  {
   "cell_type": "code",
   "execution_count": 123,
   "metadata": {},
   "outputs": [
    {
     "data": {
      "text/plain": [
       "array([500,  13,  93,  25,  68,  18,  85,  76,  34,  82,  67,  74])"
      ]
     },
     "execution_count": 123,
     "metadata": {},
     "output_type": "execute_result"
    }
   ],
   "source": [
    "# delete the 0,3,5 index value from array a\n",
    "\n",
    "np.delete(a,[0,3,5])"
   ]
  },
  {
   "cell_type": "markdown",
   "metadata": {},
   "source": [
    "#### Set function\n",
    "1: np.union1d\n",
    "\n",
    "2: np.intersectd\n",
    "\n",
    "3: np.setdiff1d\n",
    "\n",
    "4: np.setxor1d\n",
    "\n",
    "5: np.in1d\n",
    "\n",
    "1: np.union1d"
   ]
  },
  {
   "cell_type": "code",
   "execution_count": 124,
   "metadata": {},
   "outputs": [
    {
     "data": {
      "text/plain": [
       "array([1, 2, 3, 4, 5, 6, 7])"
      ]
     },
     "execution_count": 124,
     "metadata": {},
     "output_type": "execute_result"
    }
   ],
   "source": [
    "m = np.array([1,2,3,4,5])\n",
    "n = np.array([3,4,5,6,7])\n",
    "\n",
    "np.union1d(m,n) # perfirm union"
   ]
  },
  {
   "cell_type": "code",
   "execution_count": 125,
   "metadata": {},
   "outputs": [
    {
     "data": {
      "text/plain": [
       "array([3, 4, 5])"
      ]
     },
     "execution_count": 125,
     "metadata": {},
     "output_type": "execute_result"
    }
   ],
   "source": [
    "np.intersect1d(m,n) # perfirm intersection"
   ]
  },
  {
   "cell_type": "code",
   "execution_count": 126,
   "metadata": {},
   "outputs": [
    {
     "data": {
      "text/plain": [
       "array([1, 2])"
      ]
     },
     "execution_count": 126,
     "metadata": {},
     "output_type": "execute_result"
    }
   ],
   "source": [
    "np.setdiff1d(m,n) # perfirm difference of m-n"
   ]
  },
  {
   "cell_type": "code",
   "execution_count": 127,
   "metadata": {},
   "outputs": [
    {
     "data": {
      "text/plain": [
       "array([1, 2, 6, 7])"
      ]
     },
     "execution_count": 127,
     "metadata": {},
     "output_type": "execute_result"
    }
   ],
   "source": [
    "np.setxor1d(m,n) # retun without common element"
   ]
  },
  {
   "cell_type": "code",
   "execution_count": 130,
   "metadata": {},
   "outputs": [
    {
     "data": {
      "text/plain": [
       "array([False, False, False, False,  True])"
      ]
     },
     "execution_count": 130,
     "metadata": {},
     "output_type": "execute_result"
    }
   ],
   "source": [
    "# chech 5 is in m set\n",
    "np.in1d(m,5) # it like membership fuction "
   ]
  },
  {
   "cell_type": "markdown",
   "metadata": {},
   "source": [
    "##### np.clip\n",
    "this fuction is used to clip (limit) the values in an array"
   ]
  },
  {
   "cell_type": "code",
   "execution_count": 131,
   "metadata": {},
   "outputs": [
    {
     "data": {
      "text/plain": [
       "array([110, 500,  13,  72,  93,  76,  25,  68,  18,  85,  76,  34,  82,\n",
       "        67,  74])"
      ]
     },
     "execution_count": 131,
     "metadata": {},
     "output_type": "execute_result"
    }
   ],
   "source": [
    "a"
   ]
  },
  {
   "cell_type": "code",
   "execution_count": 133,
   "metadata": {},
   "outputs": [
    {
     "data": {
      "text/plain": [
       "array([75, 75, 25, 72, 75, 75, 25, 68, 25, 75, 75, 34, 75, 67, 74])"
      ]
     },
     "execution_count": 133,
     "metadata": {},
     "output_type": "execute_result"
    }
   ],
   "source": [
    "# clip (replace) the all valuse with 75 that are above 75 \n",
    "# and clip the all values with 25 that are below 25\n",
    "np.clip(a, a_min=25, a_max=75) # it return all values between 25 and 75"
   ]
  }
 ],
 "metadata": {
  "kernelspec": {
   "display_name": "Python 3",
   "language": "python",
   "name": "python3"
  },
  "language_info": {
   "codemirror_mode": {
    "name": "ipython",
    "version": 3
   },
   "file_extension": ".py",
   "mimetype": "text/x-python",
   "name": "python",
   "nbconvert_exporter": "python",
   "pygments_lexer": "ipython3",
   "version": "3.12.3"
  }
 },
 "nbformat": 4,
 "nbformat_minor": 2
}
